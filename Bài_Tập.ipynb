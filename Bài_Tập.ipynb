{
  "nbformat": 4,
  "nbformat_minor": 0,
  "metadata": {
    "colab": {
      "name": "Bài Tập",
      "provenance": [],
      "collapsed_sections": [],
      "include_colab_link": true
    },
    "kernelspec": {
      "name": "python3",
      "display_name": "Python 3"
    },
    "language_info": {
      "name": "python"
    }
  },
  "cells": [
    {
      "cell_type": "markdown",
      "metadata": {
        "id": "view-in-github",
        "colab_type": "text"
      },
      "source": [
        "<a href=\"https://colab.research.google.com/github/BeCkHaM1209M1/Group-Champion/blob/main/B%C3%A0i_T%E1%BA%ADp.ipynb\" target=\"_parent\"><img src=\"https://colab.research.google.com/assets/colab-badge.svg\" alt=\"Open In Colab\"/></a>"
      ]
    },
    {
      "cell_type": "code",
      "metadata": {
        "colab": {
          "base_uri": "https://localhost:8080/"
        },
        "id": "VLgKMF0ALO5x",
        "outputId": "6037c613-90bc-4f26-e184-78e831e83ad4"
      },
      "source": [
        "a=float(input(\"Nhập a= \"))\n",
        "b=float(input(\"NHập b= \"))\n",
        "c=float(input(\"Nhập c= \"))\n",
        "print(f\"Giải phương trình bậc nhất : {a}x^2 + {b}x + {c}\")\n",
        "if a==0:\n",
        "    if b==0:\n",
        "      if c==0:\n",
        "        print(\"Phương trình vô số nghiệm\")\n",
        "      else:\n",
        "        print(\"Phương trình vô nghiệm \")\n",
        "    elif c==0:\n",
        "      print(\"Phương trình có 1 nghiệm x=0\")\n",
        "    else:\n",
        "      x=-c/b\n",
        "      print(\"phương trình có 1 nghiệm x=\",x)\n",
        "else:\n",
        "  delta=b**2-4*a*c\n",
        "  if delta<0:\n",
        "    print(\"PHương trình vô nghiệm\")\n",
        "  elif delta==0:\n",
        "    x=-b/(2*a)\n",
        "    print(\"phương tình có 2 nghiệm kép x=\",x)\n",
        "  else:\n",
        "    print(\"PHương trình có 2 nghiệm phân biệt :\")\n",
        "    x1=float(-b-(delta**0.5)) / (2*a) #Tinh căn bậc 2 :delta**0.5\n",
        "    x2=float(-b+(delta**0.5)) / (2*a)\n",
        "    print(\"x1=\",x2)\n",
        "    print(\"x2=\",x2)"
      ],
      "execution_count": null,
      "outputs": [
        {
          "output_type": "stream",
          "name": "stdout",
          "text": [
            "Nhập a= 2\n",
            "NHập b= 5\n",
            "Nhập c= 1\n",
            "Giải phương trình bậc nhất : 2.0x^2 + 5.0x + 1.0\n",
            "PHương trình có 2 nghiệm phân biệt :\n",
            "x1= -0.21922359359558485\n",
            "x2= -0.21922359359558485\n"
          ]
        }
      ]
    },
    {
      "cell_type": "markdown",
      "metadata": {
        "id": "XFQTOUPsYSrM"
      },
      "source": [
        ""
      ]
    },
    {
      "cell_type": "code",
      "metadata": {
        "colab": {
          "base_uri": "https://localhost:8080/"
        },
        "id": "86bKnSplRuZR",
        "outputId": "2c6da2a8-7a77-459c-c12e-d52149bfa9dc"
      },
      "source": [
        "text=\"Try your best\"\n",
        "print(text[2])"
      ],
      "execution_count": null,
      "outputs": [
        {
          "output_type": "stream",
          "name": "stdout",
          "text": [
            "y\n"
          ]
        }
      ]
    },
    {
      "cell_type": "code",
      "metadata": {
        "colab": {
          "base_uri": "https://localhost:8080/"
        },
        "id": "7nKAY0s8TF9h",
        "outputId": "d53c3f47-6cc6-4c2b-abe6-6718e94e7cae"
      },
      "source": [
        "z=16\n",
        "print(type(z))\n",
        "z=10.5\n",
        "print(type(z))\n",
        "z=\"helllo\"\n",
        "print(type(z))"
      ],
      "execution_count": null,
      "outputs": [
        {
          "output_type": "stream",
          "name": "stdout",
          "text": [
            "<class 'int'>\n",
            "<class 'float'>\n",
            "<class 'str'>\n"
          ]
        }
      ]
    },
    {
      "cell_type": "code",
      "metadata": {
        "colab": {
          "base_uri": "https://localhost:8080/"
        },
        "id": "O08ckXodYUTy",
        "outputId": "50b09a59-8a92-4961-b220-eb69fcbd3bd7"
      },
      "source": [
        "a=\"\"\"\n",
        "#################################################################\n",
        "#                             _`\t\t\t\t#\n",
        "#                          _ooOoo_\t\t\t\t#\n",
        "#                         o8888888o\t\t\t\t#\n",
        "#                         88\" . \"88\t\t\t\t#\n",
        "#                         (| -_- |)\t\t\t\t#\n",
        "#                         O\\  =  /O\t\t\t\t#\n",
        "#                      ____/`---'\\____\t\t\t\t#\n",
        "#                    .'  \\\\|     |//  `.\t\t\t\t#\n",
        "#                   /  \\\\|||  :  |||//  \\\t\t\t#\n",
        "#                  /  _||||| -:- |||||_  \\\t\t\t#\n",
        "#                  |   | \\\\\\  -  /'| |   |\t\t\t#\n",
        "#                  | \\_|  `\\`---'//  |_/ |\t\t\t#\n",
        "#                  \\  .-\\__ `-. -'__/-.  /\t\t\t#\n",
        "#                ___`. .'  /--.--\\  `. .'___\t\t\t#\n",
        "#             .\"\" '<  `.___\\_<|>_/___.' _> \\\"\".\t\t\t#\n",
        "#            | | :  `- \\`. ;`. _/; .'/ /  .' ; |\t\t#\n",
        "#            \\  \\ `-.   \\_\\_`. _.'_/_/  -' _.' /\t\t#\n",
        "#=============`-.`___`-.__\\ \\___  /__.-'_.'_.-'=================#\n",
        "                           `=--=-'                    \n",
        "\n",
        "\n",
        "\n",
        "          _.-/`)\n",
        "         // / / )\n",
        "      .=// / / / )\n",
        "     //`/ / / / /\n",
        "    // /     ` /\n",
        "   ||         /\n",
        "    \\\\       /\n",
        "     ))    .'\n",
        "    //    /\n",
        "         /\"\"\"\n",
        "print(a)"
      ],
      "execution_count": null,
      "outputs": [
        {
          "output_type": "stream",
          "name": "stdout",
          "text": [
            "\n",
            "#################################################################\n",
            "#                             _`\t\t\t\t#\n",
            "#                          _ooOoo_\t\t\t\t#\n",
            "#                         o8888888o\t\t\t\t#\n",
            "#                         88\" . \"88\t\t\t\t#\n",
            "#                         (| -_- |)\t\t\t\t#\n",
            "#                         O\\  =  /O\t\t\t\t#\n",
            "#                      ____/`---'\\____\t\t\t\t#\n",
            "#                    .'  \\|     |//  `.\t\t\t\t#\n",
            "#                   /  \\|||  :  |||//  \\\t\t\t#\n",
            "#                  /  _||||| -:- |||||_  \\\t\t\t#\n",
            "#                  |   | \\\\  -  /'| |   |\t\t\t#\n",
            "#                  | \\_|  `\\`---'//  |_/ |\t\t\t#\n",
            "#                  \\  .-\\__ `-. -'__/-.  /\t\t\t#\n",
            "#                ___`. .'  /--.--\\  `. .'___\t\t\t#\n",
            "#             .\"\" '<  `.___\\_<|>_/___.' _> \"\".\t\t\t#\n",
            "#            | | :  `- \\`. ;`. _/; .'/ /  .' ; |\t\t#\n",
            "#            \\  \\ `-.   \\_\\_`. _.'_/_/  -' _.' /\t\t#\n",
            "#=============`-.`___`-.__\\ \\___  /__.-'_.'_.-'=================#\n",
            "                           `=--=-'                    \n",
            "\n",
            "\n",
            "\n",
            "          _.-/`)\n",
            "         // / / )\n",
            "      .=// / / / )\n",
            "     //`/ / / / /\n",
            "    // /     ` /\n",
            "   ||         /\n",
            "    \\       /\n",
            "     ))    .'\n",
            "    //    /\n",
            "         /\n"
          ]
        }
      ]
    },
    {
      "cell_type": "code",
      "metadata": {
        "colab": {
          "base_uri": "https://localhost:8080/",
          "height": 132
        },
        "id": "bJ1OQ_85Um_A",
        "outputId": "48d38b0f-c1b8-4cfb-d17a-0b435c511d0b"
      },
      "source": [
        "\n",
        "program bai_4;\n",
        "uses crt;\n",
        "Var delta,a,b,c,x1,x2: real ;\n",
        "Begin\n",
        "    writeln('Nhap 3 so bat ky');readln(a,b,c);\n",
        "    delta:=b*b-4*a*c;\n",
        "    \n",
        "    if delta <0 then writeln('pt vo nghiem');\n",
        "    if delta = 0 then writeln('pt co 1 nghiem kep x= ',-b/(2*a));\n",
        "    if delta >0 then \n",
        "        Begin\n",
        "            writeln('Phuong trinh co 2 nghiem phan biet');\n",
        "            x1:=(-b-sqrt(delta))/(2*a);\n",
        "            x2:=(-b+sqrt(delta))/(2*a);\n",
        "            writeln('x1=',x1);\n",
        "            writeln('x2=',x2);\n",
        "        End;\n",
        "    readln;  \n",
        "End."
      ],
      "execution_count": 2,
      "outputs": [
        {
          "output_type": "error",
          "ename": "SyntaxError",
          "evalue": "ignored",
          "traceback": [
            "\u001b[0;36m  File \u001b[0;32m\"<ipython-input-2-6355430fc85c>\"\u001b[0;36m, line \u001b[0;32m2\u001b[0m\n\u001b[0;31m    program bai_4;\u001b[0m\n\u001b[0m                ^\u001b[0m\n\u001b[0;31mSyntaxError\u001b[0m\u001b[0;31m:\u001b[0m invalid syntax\n"
          ]
        }
      ]
    }
  ]
}